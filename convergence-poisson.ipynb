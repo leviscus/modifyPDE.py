{
 "cells": [
  {
   "cell_type": "markdown",
   "metadata": {},
   "source": [
    "## FEniCSx implementation\n",
    "\n",
    "### The complete program\n",
    "\n",
    "A FEniCSx program for solving our test problem for the Poisson equation\n",
    "in 2D with the given choices of $\\Omega$, $u_D$, and $f$ may look as\n",
    "follows:"
   ]
  },
  {
   "cell_type": "code",
   "execution_count": null,
   "metadata": {},
   "outputs": [],
   "source": [
    "from mpi4py import MPI\n",
    "import numpy as np\n",
    "from dolfinx import mesh, fem, plot, io\n",
    "from dolfinx.fem.petsc import LinearProblem\n",
    "from ufl import SpatialCoordinate, TrialFunction, TestFunction, inner, grad, dx\n",
    "\n",
    "# Create mesh and define function space\n",
    "msh = mesh.create_unit_square(\n",
    "    comm=MPI.COMM_WORLD,\n",
    "    nx=4,\n",
    "    ny=4\n",
    ")\n",
    "\n",
    "V = fem.functionspace(\n",
    "    mesh=msh,\n",
    "    element=(\"P\", 1)\n",
    ")\n",
    "\n",
    "# Define boundary condition\n",
    "def on_boundary(x):\n",
    "    return np.isclose(x[0], 0) | np.isclose(x[0], 1) | np.isclose(x[1], 0) | np.isclose(x[1], 1)\n",
    "\n",
    "boundary_dofs = fem.locate_dofs_geometrical(V=V, marker=on_boundary)\n",
    "\n",
    "def manufactured_solution(x):\n",
    "    return 1 + x[0]**2 + 2 * x[1]**2\n",
    "\n",
    "uD = fem.Function(V)\n",
    "uD.interpolate(manufactured_solution)\n",
    "\n",
    "bc = fem.dirichletbc(value=uD, dofs=boundary_dofs)\n",
    "\n",
    "# Define variational problem\n",
    "u = TrialFunction(V)\n",
    "v = TestFunction(V)\n",
    "f = fem.Constant(msh, -6.)\n",
    "a = inner(grad(u), grad(v)) * dx\n",
    "L = f * v * dx\n",
    "\n",
    "# Compute solution\n",
    "problem = LinearProblem(a, L, bcs=[bc], petsc_options={\"ksp_type\": \"preonly\", \"pc_type\": \"lu\"})\n",
    "uh = problem.solve()\n",
    "uh.name = \"Solution u\"\n",
    "\n",
    "# Compute error\n",
    "x = SpatialCoordinate(msh)\n",
    "ue = manufactured_solution(x)\n",
    "L2form = fem.form((uh - ue)**2 * dx)\n",
    "L2error = np.sqrt(fem.assemble_scalar(L2form))\n",
    "print(\"L2-error:\", L2error)\n",
    "H1form = fem.form((uh - ue)**2 * dx + inner(grad(uh - ue), grad(uh - ue)) * dx)\n",
    "H1error = np.sqrt(fem.assemble_scalar(H1form))\n",
    "print(\"H1-error:\", H1error)\n",
    "\n",
    "# Export the solution in VTX format\n",
    "with io.VTXWriter(msh.comm, \"results/poisson.bp\", [uh]) as vtx:\n",
    "    vtx.write(0.0)"
   ]
  },
  {
   "cell_type": "markdown",
   "metadata": {},
   "source": [
    "### Convergence with $P_1$-elements\n",
    "\n",
    "Use the code above with the manufactured solution $u_e(x,y) = 1 + x^2 + 2y^2$ to complete the following table for the approximation with $P_1$-elements:"
   ]
  },
  {
   "cell_type": "markdown",
   "metadata": {},
   "source": [
    "| $n_x, n_y$ | $h$ | $L^2$-error | $H^1$-error |\n",
    "| --- | --- | --- | --- |\n",
    "| $4$ | ${1 \\over 4} \\sqrt{2}$ | 0.0329 | 0.3244 |\n",
    "| $8$ | ${1 \\over 8} \\sqrt{2}$ | 0.0082 | 0.1616 |\n",
    "| $16$ | ${1 \\over 16} \\sqrt{2}$ | 0.0021 | 0.0807 |\n",
    "| $32$ | ${1 \\over 32} \\sqrt{2}$ | 0.0005 | 0.0403 |\n",
    "| $64$ | ${1 \\over 64} \\sqrt{2}$ | 0.0001 | 0.0201 |\n",
    "| $128$ | ${1 \\over 128} \\sqrt{2}$ | 0.00003 | 0.0100 |"
   ]
  },
  {
   "cell_type": "markdown",
   "metadata": {},
   "source": [
    "Q: What are the convergence rates that these results suggest for the $L^2$-error and the $H^1$-error, respectively?\n",
    "\n",
    "A: \n",
    "\n",
    "The $L^2$-error convergence rates are approximately 2, with some variation:\n",
    "[2.004,1.965,2.070,2.322,1.737]\n",
    "\n",
    "The $H^1$-error convergence rates are approximately 1:\n",
    "[1.005,1.001,1.001,1.004,1.007]"
   ]
  },
  {
   "cell_type": "code",
   "execution_count": 1,
   "metadata": {},
   "outputs": [
    {
     "name": "stdout",
     "output_type": "stream",
     "text": [
      "L2 convergence rates: [np.float64(2.0043917691171576), np.float64(1.9652345818393238), np.float64(2.070389327891398), np.float64(2.321928094887362), np.float64(1.7369655941662063)]\n",
      "H1 convergence rates: [np.float64(1.0053466214654785), np.float64(1.0017866194740144), np.float64(1.0017888347498127), np.float64(1.003584337349039), np.float64(1.007195501404204)]\n"
     ]
    }
   ],
   "source": [
    "import numpy as np\n",
    "\n",
    "# Example data\n",
    "h_values = [1/4 * np.sqrt(2), 1/8 * np.sqrt(2), 1/16 * np.sqrt(2), 1/32 * np.sqrt(2), 1/64 * np.sqrt(2), 1/128 * np.sqrt(2)]  # Example mesh sizes\n",
    "L2_errors = [0.0329, 0.0082, 0.0021, 0.0005, 0.0001, 0.00003]  # Example L2 errors\n",
    "H1_errors = [0.3244, 0.1616, 0.0807, 0.0403, 0.0201, 0.0100]  # Example H1 errors\n",
    "\n",
    "# Compute convergence rates\n",
    "def compute_convergence_rates(h_values, errors):\n",
    "    rates = []\n",
    "    for i in range(len(h_values) - 1):\n",
    "        rate = np.log(errors[i + 1] / errors[i]) / np.log(h_values[i + 1] / h_values[i])\n",
    "        rates.append(rate)\n",
    "    return rates\n",
    "\n",
    "# Compute rates for L2 and H1 errors\n",
    "L2_rates = compute_convergence_rates(h_values, L2_errors)\n",
    "H1_rates = compute_convergence_rates(h_values, H1_errors)\n",
    "\n",
    "# Display results\n",
    "print(\"L2 convergence rates:\", L2_rates)\n",
    "print(\"H1 convergence rates:\", H1_rates)"
   ]
  },
  {
   "cell_type": "markdown",
   "metadata": {},
   "source": [
    "\n",
    "Now switch from $P_1$-elements to $P_2$-elements and check that the numerical solution is exact (up to rounding error)."
   ]
  },
  {
   "cell_type": "code",
   "execution_count": 8,
   "metadata": {},
   "outputs": [
    {
     "name": "stdout",
     "output_type": "stream",
     "text": [
      "L2-error: 3.4737992217892883e-15\n",
      "H1-error: 2.846434189904547e-14\n"
     ]
    }
   ],
   "source": [
    "from mpi4py import MPI\n",
    "import numpy as np\n",
    "from dolfinx import mesh, fem, plot, io\n",
    "from dolfinx.fem.petsc import LinearProblem\n",
    "from ufl import SpatialCoordinate, TrialFunction, TestFunction, inner, grad, dx\n",
    "\n",
    "# Create mesh and define function space\n",
    "msh = mesh.create_unit_square(\n",
    "    comm=MPI.COMM_WORLD,\n",
    "    nx=4,\n",
    "    ny=4\n",
    ")\n",
    "\n",
    "V = fem.functionspace(\n",
    "    mesh=msh,\n",
    "    element=(\"P\", 2)\n",
    ")\n",
    "\n",
    "# Define boundary condition\n",
    "def on_boundary(x):\n",
    "    return np.isclose(x[0], 0) | np.isclose(x[0], 1) | np.isclose(x[1], 0) | np.isclose(x[1], 1)\n",
    "\n",
    "boundary_dofs = fem.locate_dofs_geometrical(V=V, marker=on_boundary)\n",
    "\n",
    "def manufactured_solution(x):\n",
    "    return 1 + x[0]**2 + 2 * x[1]**2\n",
    "\n",
    "uD = fem.Function(V)\n",
    "uD.interpolate(manufactured_solution)\n",
    "\n",
    "bc = fem.dirichletbc(value=uD, dofs=boundary_dofs)\n",
    "\n",
    "# Define variational problem\n",
    "u = TrialFunction(V)\n",
    "v = TestFunction(V)\n",
    "f = fem.Constant(msh, -6.)\n",
    "a = inner(grad(u), grad(v)) * dx\n",
    "L = f * v * dx\n",
    "\n",
    "# Compute solution\n",
    "problem = LinearProblem(a, L, bcs=[bc], petsc_options={\"ksp_type\": \"preonly\", \"pc_type\": \"lu\"})\n",
    "uh = problem.solve()\n",
    "uh.name = \"Solution u\"\n",
    "\n",
    "# Compute error\n",
    "x = SpatialCoordinate(msh)\n",
    "ue = manufactured_solution(x)\n",
    "L2form = fem.form((uh - ue)**2 * dx)\n",
    "L2error = np.sqrt(fem.assemble_scalar(L2form))\n",
    "print(\"L2-error:\", L2error)\n",
    "H1form = fem.form((uh - ue)**2 * dx + inner(grad(uh - ue), grad(uh - ue)) * dx)\n",
    "H1error = np.sqrt(fem.assemble_scalar(H1form))\n",
    "print(\"H1-error:\", H1error)\n",
    "\n",
    "# Export the solution in VTX format\n",
    "with io.VTXWriter(msh.comm, \"results/poisson.bp\", [uh]) as vtx:\n",
    "    vtx.write(0.0)"
   ]
  },
  {
   "cell_type": "markdown",
   "metadata": {},
   "source": [
    "| $n_x, n_y$ | $h$ | $L^2$-error | $H^1$-error |\n",
    "| --- | --- | --- | --- |\n",
    "| $4$ | ${1 \\over 4} \\sqrt{2}$ | 3.4737992217892883e-15 | 2.846434189904547e-14 |\n",
    "| $8$ | ${1 \\over 8} \\sqrt{2}$ | 1.4191143607449725e-14 | 8.443388496678458e-14 |\n",
    "| $16$ | ${1 \\over 16} \\sqrt{2}$ | 5.550399557490119e-14 | 2.8458358983460907e-13 |\n",
    "| $32$ | ${1 \\over 32} \\sqrt{2}$ | 2.188103854767406e-13 | 1.0622872132932086e-12 |\n",
    "| $64$ | ${1 \\over 64} \\sqrt{2}$ | 8.935391921764368e-13 | 4.256001080125365e-12 |\n",
    "| $128$ | ${1 \\over 128} \\sqrt{2}$ | 3.616430161582769e-12 | 1.7128858711713004e-11 |"
   ]
  },
  {
   "cell_type": "markdown",
   "metadata": {},
   "source": [
    "### Convergence with higher-order elements\n",
    "\n",
    "Create a new test problem by choosing a quintic polynomial as manufactured solution:\n",
    "\n",
    "$$u_e(x,y) = x^5 + y^5$$"
   ]
  },
  {
   "cell_type": "markdown",
   "metadata": {},
   "source": [
    "Q: What source term $f$ and what boundary values $u_D$ make this the exact solution of the Poisson-Dirichlet problem\n",
    "\n",
    "\\begin{align*}\n",
    "-\\Delta u (x,y) &= f(x,y) && (x,y) \\in \\Omega\\\\\n",
    "u (x,y) &= u_D(x,y) && (x,y) \\in \\partial\\Omega\n",
    "\\end{align*}\n",
    "\n",
    "A: \n",
    "\n",
    "\\begin{align*}\n",
    "f(x,y) &= -20 x^3 - 20 y^3\\\\\n",
    "u_D(x,y) &= x^5 + y^5\n",
    "\\end{align*}"
   ]
  },
  {
   "cell_type": "markdown",
   "metadata": {},
   "source": [
    "Implement this new manufactured solution in the code above. Then measure the $L^2$-errors and $H^1$-errors when using $P_1$, $P_2$ or $P_3$ elements:"
   ]
  },
  {
   "cell_type": "code",
   "execution_count": 25,
   "metadata": {},
   "outputs": [
    {
     "name": "stdout",
     "output_type": "stream",
     "text": [
      "L2-error: 0.017665605600345344\n",
      "H1-error: 0.38280356899717516\n"
     ]
    }
   ],
   "source": [
    "# P1 elements\n",
    "from mpi4py import MPI\n",
    "import numpy as np\n",
    "from dolfinx import mesh, fem, plot, io\n",
    "from dolfinx.fem.petsc import LinearProblem\n",
    "from ufl import SpatialCoordinate, TrialFunction, TestFunction, inner, grad, dx\n",
    "\n",
    "# Create mesh and define function space\n",
    "msh = mesh.create_unit_square(\n",
    "    comm=MPI.COMM_WORLD,\n",
    "    nx=8,\n",
    "    ny=8\n",
    ")\n",
    "\n",
    "V = fem.functionspace(\n",
    "    mesh=msh,\n",
    "    element=(\"P\", 1)\n",
    ")\n",
    "\n",
    "# Define boundary condition\n",
    "def on_boundary(x):\n",
    "    return np.isclose(x[0], 0) | np.isclose(x[0], 1) | np.isclose(x[1], 0) | np.isclose(x[1], 1)\n",
    "\n",
    "boundary_dofs = fem.locate_dofs_geometrical(V=V, marker=on_boundary)\n",
    "\n",
    "def manufactured_solution(x):\n",
    "    return x[0]**5 + x[1]**5\n",
    "\n",
    "uD = fem.Function(V)\n",
    "uD.interpolate(manufactured_solution)\n",
    "\n",
    "bc = fem.dirichletbc(value=uD, dofs=boundary_dofs)\n",
    "\n",
    "# Define variational problem\n",
    "u = TrialFunction(V)\n",
    "v = TestFunction(V)\n",
    "x = SpatialCoordinate(msh)\n",
    "f = -20 * x[0]**3 - 20 * x[1]**3\n",
    "a = inner(grad(u), grad(v)) * dx\n",
    "L = f * v * dx\n",
    "\n",
    "# Compute solution\n",
    "problem = LinearProblem(a, L, bcs=[bc], petsc_options={\"ksp_type\": \"preonly\", \"pc_type\": \"lu\"})\n",
    "uh = problem.solve()\n",
    "uh.name = \"Solution u\"\n",
    "\n",
    "# Compute error\n",
    "x = SpatialCoordinate(msh)\n",
    "ue = manufactured_solution(x)\n",
    "L2form = fem.form((uh - ue)**2 * dx)\n",
    "L2error = np.sqrt(fem.assemble_scalar(L2form))\n",
    "print(\"L2-error:\", L2error)\n",
    "H1form = fem.form((uh - ue)**2 * dx + inner(grad(uh - ue), grad(uh - ue)) * dx)\n",
    "H1error = np.sqrt(fem.assemble_scalar(H1form))\n",
    "print(\"H1-error:\", H1error)\n",
    "\n",
    "# Export the solution in VTX format\n",
    "with io.VTXWriter(msh.comm, \"results/poisson.bp\", [uh]) as vtx:\n",
    "    vtx.write(0.0)"
   ]
  },
  {
   "cell_type": "markdown",
   "metadata": {},
   "source": [
    "#### $P_1$-elements\n",
    "\n",
    "| $n_x, n_y$ | $h$ | $L^2$-error | $H^1$-error |\n",
    "| --- | --- | --- | --- |\n",
    "| $8$ | ${1 \\over 8} \\sqrt{2}$  | $0.0176$ |$0.3828$|\n",
    "| $16$ | ${1 \\over 16} \\sqrt{2}$  | $0.0044$ |$0.1925$|\n",
    "| $32$ | ${1 \\over 32} \\sqrt{2}$ | $0.0011$ |$0.0964$|\n",
    "| $64$ | ${1 \\over 64} \\sqrt{2}$ | $0.0002$ |$0.0482$|\n",
    "\n",
    "Estimated convergence rates:\n",
    "- ... convergence for the $L^2$ errors = The $L^2$-error convergence rates are 2.0, with only one variation:\n",
    "[2.0, 2.0, 2.459]\n",
    "\n",
    "- ... convergence for the $H^1$ errors = The $H^1$-error convergence rates are all approximately 1.0:\n",
    "[0.9917, 0.9978, 1.0]"
   ]
  },
  {
   "cell_type": "code",
   "execution_count": 24,
   "metadata": {},
   "outputs": [
    {
     "name": "stdout",
     "output_type": "stream",
     "text": [
      "L2 convergence rates: [np.float64(2.0), np.float64(2.0), np.float64(2.4594316186372973)]\n",
      "H1 convergence rates: [np.float64(0.9917323840163995), np.float64(0.9977533942396645), np.float64(1.0)]\n"
     ]
    }
   ],
   "source": [
    "# P1 convergence rates\n",
    "import numpy as np\n",
    "\n",
    "# Example data\n",
    "h_values = [1/8 * np.sqrt(2), 1/16 * np.sqrt(2), 1/32 * np.sqrt(2), 1/64 * np.sqrt(2)]  # Example mesh sizes\n",
    "L2_errors = [0.0176, 0.0044, 0.0011, 0.0002]  # Example L2 errors\n",
    "H1_errors = [0.3828, 0.1925, 0.0964, 0.0482]  # Example H1 errors\n",
    "\n",
    "# Compute convergence rates\n",
    "def compute_convergence_rates(h_values, errors):\n",
    "    rates = []\n",
    "    for i in range(len(h_values) - 1):\n",
    "        rate = np.log(errors[i + 1] / errors[i]) / np.log(h_values[i + 1] / h_values[i])\n",
    "        rates.append(rate)\n",
    "    return rates\n",
    "\n",
    "# Compute rates for L2 and H1 errors\n",
    "L2_rates = compute_convergence_rates(h_values, L2_errors)\n",
    "H1_rates = compute_convergence_rates(h_values, H1_errors)\n",
    "\n",
    "# Display results\n",
    "print(\"L2 convergence rates:\", L2_rates)\n",
    "print(\"H1 convergence rates:\", H1_rates)"
   ]
  },
  {
   "cell_type": "code",
   "execution_count": 31,
   "metadata": {},
   "outputs": [
    {
     "name": "stdout",
     "output_type": "stream",
     "text": [
      "L2-error: 0.0004238997669224463\n",
      "H1-error: 0.02197597281797851\n"
     ]
    }
   ],
   "source": [
    "# P2 elements\n",
    "from mpi4py import MPI\n",
    "import numpy as np\n",
    "from dolfinx import mesh, fem, plot, io\n",
    "from dolfinx.fem.petsc import LinearProblem\n",
    "from ufl import SpatialCoordinate, TrialFunction, TestFunction, inner, grad, dx\n",
    "\n",
    "# Create mesh and define function space\n",
    "msh = mesh.create_unit_square(\n",
    "    comm=MPI.COMM_WORLD,\n",
    "    nx=8,\n",
    "    ny=8\n",
    ")\n",
    "\n",
    "V = fem.functionspace(\n",
    "    mesh=msh,\n",
    "    element=(\"P\", 2)\n",
    ")\n",
    "\n",
    "# Define boundary condition\n",
    "def on_boundary(x):\n",
    "    return np.isclose(x[0], 0) | np.isclose(x[0], 1) | np.isclose(x[1], 0) | np.isclose(x[1], 1)\n",
    "\n",
    "boundary_dofs = fem.locate_dofs_geometrical(V=V, marker=on_boundary)\n",
    "\n",
    "def manufactured_solution(x):\n",
    "    return x[0]**5 + x[1]**5\n",
    "\n",
    "uD = fem.Function(V)\n",
    "uD.interpolate(manufactured_solution)\n",
    "\n",
    "bc = fem.dirichletbc(value=uD, dofs=boundary_dofs)\n",
    "\n",
    "# Define variational problem\n",
    "u = TrialFunction(V)\n",
    "v = TestFunction(V)\n",
    "x = SpatialCoordinate(msh)\n",
    "f = -20 * x[0]**3 - 20 * x[1]**3\n",
    "a = inner(grad(u), grad(v)) * dx\n",
    "L = f * v * dx\n",
    "\n",
    "# Compute solution\n",
    "problem = LinearProblem(a, L, bcs=[bc], petsc_options={\"ksp_type\": \"preonly\", \"pc_type\": \"lu\"})\n",
    "uh = problem.solve()\n",
    "uh.name = \"Solution u\"\n",
    "\n",
    "# Compute error\n",
    "x = SpatialCoordinate(msh)\n",
    "ue = manufactured_solution(x)\n",
    "L2form = fem.form((uh - ue)**2 * dx)\n",
    "L2error = np.sqrt(fem.assemble_scalar(L2form))\n",
    "print(\"L2-error:\", L2error)\n",
    "H1form = fem.form((uh - ue)**2 * dx + inner(grad(uh - ue), grad(uh - ue)) * dx)\n",
    "H1error = np.sqrt(fem.assemble_scalar(H1form))\n",
    "print(\"H1-error:\", H1error)\n",
    "\n",
    "# Export the solution in VTX format\n",
    "with io.VTXWriter(msh.comm, \"results/poisson.bp\", [uh]) as vtx:\n",
    "    vtx.write(0.0)"
   ]
  },
  {
   "cell_type": "markdown",
   "metadata": {},
   "source": [
    "#### $P_2$-elements\n",
    "\n",
    "| $n_x, n_y$ | $h$ | $L^2$-error | $H^1$-error |\n",
    "| --- | --- | --- | --- |\n",
    "| $8$ | ${1 \\over 8} \\sqrt{2}$  | $0.0004$ |$0.0219$|\n",
    "| $16$ | ${1 \\over 16} \\sqrt{2}$ | $0.00005$ |$0.0055$|\n",
    "| $32$ | ${1 \\over 32} \\sqrt{2}$ | $0.000007$ |$0.0014$|\n",
    "| $64$ | ${1 \\over 64} \\sqrt{2}$ | $0.0000008$ |$0.0003$|\n",
    "\n",
    "Estimated convergence rates:\n",
    "- ... convergence for the $L^2$ errors = The $L^2$-error convergence rates are within the theoretical 3.0:\n",
    "[3.0, 2.836, 3.1293]\n",
    "\n",
    "- ... convergence for the $H^1$ errors = The $H^1$-error convergence rates are all approximately equal to the theoretical 2.0:\n",
    "[1.9934, 1.9740, 2.2223]"
   ]
  },
  {
   "cell_type": "code",
   "execution_count": 30,
   "metadata": {},
   "outputs": [
    {
     "name": "stdout",
     "output_type": "stream",
     "text": [
      "L2 convergence rates: [np.float64(3.0), np.float64(2.836501267717121), np.float64(3.129283016944967)]\n",
      "H1 convergence rates: [np.float64(1.993427346076514), np.float64(1.9740047914670553), np.float64(2.222392421336448)]\n"
     ]
    }
   ],
   "source": [
    "# P2 convergence rates\n",
    "import numpy as np\n",
    "\n",
    "# Example data\n",
    "h_values = [1/8 * np.sqrt(2), 1/16 * np.sqrt(2), 1/32 * np.sqrt(2), 1/64 * np.sqrt(2)]  # Example mesh sizes\n",
    "L2_errors = [0.0004, 0.00005, 0.000007, 0.0000008]  # Example L2 errors\n",
    "H1_errors = [0.0219, 0.0055, 0.0014, 0.0003]  # Example H1 errors\n",
    "\n",
    "# Compute convergence rates\n",
    "def compute_convergence_rates(h_values, errors):\n",
    "    rates = []\n",
    "    for i in range(len(h_values) - 1):\n",
    "        rate = np.log(errors[i + 1] / errors[i]) / np.log(h_values[i + 1] / h_values[i])\n",
    "        rates.append(rate)\n",
    "    return rates\n",
    "\n",
    "# Compute rates for L2 and H1 errors\n",
    "L2_rates = compute_convergence_rates(h_values, L2_errors)\n",
    "H1_rates = compute_convergence_rates(h_values, H1_errors)\n",
    "\n",
    "# Display results\n",
    "print(\"L2 convergence rates:\", L2_rates)\n",
    "print(\"H1 convergence rates:\", H1_rates)"
   ]
  },
  {
   "cell_type": "code",
   "execution_count": 36,
   "metadata": {},
   "outputs": [
    {
     "name": "stdout",
     "output_type": "stream",
     "text": [
      "L2-error: 7.437238166253042e-06\n",
      "H1-error: 0.0005680401142416761\n"
     ]
    }
   ],
   "source": [
    "# P3 elements\n",
    "from mpi4py import MPI\n",
    "import numpy as np\n",
    "from dolfinx import mesh, fem, plot, io\n",
    "from dolfinx.fem.petsc import LinearProblem\n",
    "from ufl import SpatialCoordinate, TrialFunction, TestFunction, inner, grad, dx\n",
    "\n",
    "# Create mesh and define function space\n",
    "msh = mesh.create_unit_square(\n",
    "    comm=MPI.COMM_WORLD,\n",
    "    nx=8,\n",
    "    ny=8\n",
    ")\n",
    "\n",
    "V = fem.functionspace(\n",
    "    mesh=msh,\n",
    "    element=(\"P\", 3)\n",
    ")\n",
    "\n",
    "# Define boundary condition\n",
    "def on_boundary(x):\n",
    "    return np.isclose(x[0], 0) | np.isclose(x[0], 1) | np.isclose(x[1], 0) | np.isclose(x[1], 1)\n",
    "\n",
    "boundary_dofs = fem.locate_dofs_geometrical(V=V, marker=on_boundary)\n",
    "\n",
    "def manufactured_solution(x):\n",
    "    return x[0]**5 + x[1]**5\n",
    "\n",
    "uD = fem.Function(V)\n",
    "uD.interpolate(manufactured_solution)\n",
    "\n",
    "bc = fem.dirichletbc(value=uD, dofs=boundary_dofs)\n",
    "\n",
    "# Define variational problem\n",
    "u = TrialFunction(V)\n",
    "v = TestFunction(V)\n",
    "x = SpatialCoordinate(msh)\n",
    "f = -20 * x[0]**3 - 20 * x[1]**3\n",
    "a = inner(grad(u), grad(v)) * dx\n",
    "L = f * v * dx\n",
    "\n",
    "# Compute solution\n",
    "problem = LinearProblem(a, L, bcs=[bc], petsc_options={\"ksp_type\": \"preonly\", \"pc_type\": \"lu\"})\n",
    "uh = problem.solve()\n",
    "uh.name = \"Solution u\"\n",
    "\n",
    "# Compute error\n",
    "x = SpatialCoordinate(msh)\n",
    "ue = manufactured_solution(x)\n",
    "L2form = fem.form((uh - ue)**2 * dx)\n",
    "L2error = np.sqrt(fem.assemble_scalar(L2form))\n",
    "print(\"L2-error:\", L2error)\n",
    "H1form = fem.form((uh - ue)**2 * dx + inner(grad(uh - ue), grad(uh - ue)) * dx)\n",
    "H1error = np.sqrt(fem.assemble_scalar(H1form))\n",
    "print(\"H1-error:\", H1error)\n",
    "\n",
    "# Export the solution in VTX format\n",
    "with io.VTXWriter(msh.comm, \"results/poisson.bp\", [uh]) as vtx:\n",
    "    vtx.write(0.0)"
   ]
  },
  {
   "cell_type": "markdown",
   "metadata": {},
   "source": [
    "#### $P_3$-elements\n",
    "\n",
    "| $n_x, n_y$ | $h$ | $L^2$-error | $H^1$-error |\n",
    "| --- | --- | --- | --- |\n",
    "| $8$ | ${1 \\over 8} \\sqrt{2}$ | $0.000007$ |$0.0006$|\n",
    "| $16$ | ${1 \\over 16} \\sqrt{2}$ |$0.0000005$ |$0.00007$|\n",
    "| $32$ | ${1 \\over 32} \\sqrt{2}$ |$0.00000003$ |$0.000009$|\n",
    "| $64$ | ${1 \\over 64} \\sqrt{2}$ |$0.000000002$ |$0.000001$|\n",
    "\n",
    "Estimated convergence rates:\n",
    "- ... convergence for the $L^2$ errors = The $L^2$-error convergence rates are all approximately within the theoretical 4.0:\n",
    "[3.8073, 4.0589, 3.9069]\n",
    "\n",
    "- ... convergence for the $H^1$ errors = The $H^1$-error convergence rates are all approximately within the theoretical 3.0:\n",
    "[3.0995, 2.9593, 3.1699]"
   ]
  },
  {
   "cell_type": "code",
   "execution_count": 37,
   "metadata": {},
   "outputs": [
    {
     "name": "stdout",
     "output_type": "stream",
     "text": [
      "L2 convergence rates: [np.float64(3.8073549220576046), np.float64(4.058893689053568), np.float64(3.9068905956085187)]\n",
      "H1 convergence rates: [np.float64(3.0995356735509145), np.float64(2.9593580155026538), np.float64(3.1699250014423126)]\n"
     ]
    }
   ],
   "source": [
    "# P3 convergence rates\n",
    "import numpy as np\n",
    "\n",
    "# Example data\n",
    "h_values = [1/8 * np.sqrt(2), 1/16 * np.sqrt(2), 1/32 * np.sqrt(2), 1/64 * np.sqrt(2)]  # Example mesh sizes\n",
    "L2_errors = [0.000007, 0.0000005, 0.00000003, 0.000000002]  # Example L2 errors\n",
    "H1_errors = [0.0006, 0.00007, 0.000009, 0.000001]  # Example H1 errors\n",
    "\n",
    "# Compute convergence rates\n",
    "def compute_convergence_rates(h_values, errors):\n",
    "    rates = []\n",
    "    for i in range(len(h_values) - 1):\n",
    "        rate = np.log(errors[i + 1] / errors[i]) / np.log(h_values[i + 1] / h_values[i])\n",
    "        rates.append(rate)\n",
    "    return rates\n",
    "\n",
    "# Compute rates for L2 and H1 errors\n",
    "L2_rates = compute_convergence_rates(h_values, L2_errors)\n",
    "H1_rates = compute_convergence_rates(h_values, H1_errors)\n",
    "\n",
    "# Display results\n",
    "print(\"L2 convergence rates:\", L2_rates)\n",
    "print(\"H1 convergence rates:\", H1_rates)"
   ]
  }
 ],
 "metadata": {
  "kernelspec": {
   "display_name": "fenicsx-env",
   "language": "python",
   "name": "python3"
  },
  "language_info": {
   "codemirror_mode": {
    "name": "ipython",
    "version": 3
   },
   "file_extension": ".py",
   "mimetype": "text/x-python",
   "name": "python",
   "nbconvert_exporter": "python",
   "pygments_lexer": "ipython3",
   "version": "3.13.0"
  }
 },
 "nbformat": 4,
 "nbformat_minor": 2
}
