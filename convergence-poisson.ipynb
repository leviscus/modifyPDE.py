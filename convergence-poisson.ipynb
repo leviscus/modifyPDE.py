{
 "cells": [
  {
   "cell_type": "markdown",
   "metadata": {},
   "source": [
    "## FEniCSx implementation\n",
    "\n",
    "### The complete program\n",
    "\n",
    "A FEniCSx program for solving our test problem for the Poisson equation\n",
    "in 2D with the given choices of $\\Omega$, $u_D$, and $f$ may look as\n",
    "follows:"
   ]
  },
  {
   "cell_type": "code",
   "execution_count": null,
   "metadata": {},
   "outputs": [],
   "source": [
    "from mpi4py import MPI\n",
    "import numpy as np\n",
    "from dolfinx import mesh, fem, plot, io\n",
    "from dolfinx.fem.petsc import LinearProblem\n",
    "from ufl import SpatialCoordinate, TrialFunction, TestFunction, inner, grad, dx\n",
    "\n",
    "# Create mesh and define function space\n",
    "msh = mesh.create_unit_square(\n",
    "    comm=MPI.COMM_WORLD,\n",
    "    nx=4,\n",
    "    ny=4\n",
    ")\n",
    "\n",
    "V = fem.functionspace(\n",
    "    mesh=msh,\n",
    "    element=(\"P\", 1)\n",
    ")\n",
    "\n",
    "# Define boundary condition\n",
    "def on_boundary(x):\n",
    "    return np.isclose(x[0], 0) | np.isclose(x[0], 1) | np.isclose(x[1], 0) | np.isclose(x[1], 1)\n",
    "\n",
    "boundary_dofs = fem.locate_dofs_geometrical(V=V, marker=on_boundary)\n",
    "\n",
    "def manufactured_solution(x):\n",
    "    return 1 + x[0]**2 + 2 * x[1]**2\n",
    "\n",
    "uD = fem.Function(V)\n",
    "uD.interpolate(manufactured_solution)\n",
    "\n",
    "bc = fem.dirichletbc(value=uD, dofs=boundary_dofs)\n",
    "\n",
    "# Define variational problem\n",
    "u = TrialFunction(V)\n",
    "v = TestFunction(V)\n",
    "f = fem.Constant(msh, -6.)\n",
    "a = inner(grad(u), grad(v)) * dx\n",
    "L = f * v * dx\n",
    "\n",
    "# Compute solution\n",
    "problem = LinearProblem(a, L, bcs=[bc], petsc_options={\"ksp_type\": \"preonly\", \"pc_type\": \"lu\"})\n",
    "uh = problem.solve()\n",
    "uh.name = \"Solution u\"\n",
    "\n",
    "# Compute error\n",
    "x = SpatialCoordinate(msh)\n",
    "ue = manufactured_solution(x)\n",
    "L2form = fem.form((uh - ue)**2 * dx)\n",
    "L2error = np.sqrt(fem.assemble_scalar(L2form))\n",
    "print(\"L2-error:\", L2error)\n",
    "H1form = fem.form((uh - ue)**2 * dx + inner(grad(uh - ue), grad(uh - ue)) * dx)\n",
    "H1error = np.sqrt(fem.assemble_scalar(H1form))\n",
    "print(\"H1-error:\", H1error)\n",
    "\n",
    "# Export the solution in VTX format\n",
    "with io.VTXWriter(msh.comm, \"results/poisson.bp\", [uh]) as vtx:\n",
    "    vtx.write(0.0)"
   ]
  },
  {
   "cell_type": "markdown",
   "metadata": {},
   "source": [
    "### Convergence with $P_1$-elements\n",
    "\n",
    "Use the code above with the manufactured solution $u_e(x,y) = 1 + x^2 + 2y^2$ to complete the following table for the approximation with $P_1$-elements:"
   ]
  },
  {
   "cell_type": "markdown",
   "metadata": {},
   "source": [
    "| $n_x, n_y$ | $h$ | $L^2$-error | $H^1$-error |\n",
    "| --- | --- | --- | --- |\n",
    "| $4$ | ${1 \\over 4} \\sqrt{2}$ | 0.0329 | 0.3244 |\n",
    "| $8$ | ${1 \\over 8} \\sqrt{2}$ | 0.0082 | 0.1616 |\n",
    "| $16$ | ${1 \\over 16} \\sqrt{2}$ | 0.0021 | 0.0807 |\n",
    "| $32$ | ${1 \\over 32} \\sqrt{2}$ | 0.0005 | 0.0403 |\n",
    "| $64$ | ${1 \\over 64} \\sqrt{2}$ | 0.0001 | 0.0201 |\n",
    "| $128$ | ${1 \\over 128} \\sqrt{2}$ | 0.00003 | 0.0100 |"
   ]
  },
  {
   "cell_type": "markdown",
   "metadata": {},
   "source": [
    "Q: What are the convergence rates that these results suggest for the $L^2$-error and the $H^1$-error, respectively?\n",
    "\n",
    "A: "
   ]
  },
  {
   "cell_type": "markdown",
   "metadata": {},
   "source": [
    "Now switch from $P_1$-elements to $P_2$-elements and check that the numerical solution is exact (up to rounding error)."
   ]
  },
  {
   "cell_type": "markdown",
   "metadata": {},
   "source": [
    "### Convergence with higher-order elements\n",
    "\n",
    "Create a new test problem by choosing a quintic polynomial as manufactured solution:\n",
    "\n",
    "$$u_e(x,y) = $$"
   ]
  },
  {
   "cell_type": "markdown",
   "metadata": {},
   "source": [
    "Q: What source term $f$ and what boundary values $u_D$ make this the exact solution of the Poisson-Dirichlet problem\n",
    "\n",
    "\\begin{align*}\n",
    "-\\Delta u (x,y) &= f(x,y) && (x,y) \\in \\Omega\\\\\n",
    "u (x,y) &= u_D(x,y) && (x,y) \\in \\partial\\Omega\n",
    "\\end{align*}\n",
    "\n",
    "A: \n",
    "\n",
    "\\begin{align*}\n",
    "f(x,y) &= \\\\\n",
    "u_D(x,y) &= \n",
    "\\end{align*}"
   ]
  },
  {
   "cell_type": "markdown",
   "metadata": {},
   "source": [
    "Implement this new manufactured solution in the code above. Then measure the $L^2$-errors and $H^1$-errors when using $P_1$, $P_2$ or $P_3$ elements:"
   ]
  },
  {
   "cell_type": "markdown",
   "metadata": {},
   "source": [
    "#### $P_1$-elements\n",
    "\n",
    "| $n_x, n_y$ | $h$ | $L^2$-error | $H^1$-error |\n",
    "| --- | --- | --- | --- |\n",
    "| $8$ |  |  |\n",
    "| $16$ |  |  |\n",
    "| $32$ |  |  |\n",
    "| $64$ |  |  |\n",
    "\n",
    "Estimated convergence rates:\n",
    "- ... convergence for the $L^2$ errors\n",
    "- ... convergence for the $H^1$ errors"
   ]
  },
  {
   "cell_type": "markdown",
   "metadata": {},
   "source": [
    "#### $P_2$-elements\n",
    "\n",
    "| $n_x, n_y$ | $h$ | $L^2$-error | $H^1$-error |\n",
    "| --- | --- | --- | --- |\n",
    "| $8$ |  |  |\n",
    "| $16$ |  |  |\n",
    "| $32$ |  |  |\n",
    "| $64$ |  |  |\n",
    "\n",
    "Estimated convergence rates:\n",
    "- ... convergence for the $L^2$ errors\n",
    "- ... convergence for the $H^1$ errors"
   ]
  },
  {
   "cell_type": "markdown",
   "metadata": {},
   "source": [
    "#### $P_3$-elements\n",
    "\n",
    "| $n_x, n_y$ | $h$ | $L^2$-error | $H^1$-error |\n",
    "| --- | --- | --- | --- |\n",
    "| $8$ |  |  |\n",
    "| $16$ |  |  |\n",
    "| $32$ |  |  |\n",
    "| $64$ |  |  |\n",
    "\n",
    "Estimated convergence rates:\n",
    "- ... convergence for the $L^2$ errors\n",
    "- ... convergence for the $H^1$ errors"
   ]
  }
 ],
 "metadata": {
  "kernelspec": {
   "display_name": "fenicsx-env",
   "language": "python",
   "name": "python3"
  },
  "language_info": {
   "codemirror_mode": {
    "name": "ipython",
    "version": 3
   },
   "file_extension": ".py",
   "mimetype": "text/x-python",
   "name": "python",
   "nbconvert_exporter": "python",
   "pygments_lexer": "ipython3",
   "version": "3.13.0"
  }
 },
 "nbformat": 4,
 "nbformat_minor": 2
}
